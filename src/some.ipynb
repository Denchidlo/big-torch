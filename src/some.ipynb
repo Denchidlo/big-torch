{
 "cells": [
  {
   "cell_type": "code",
   "execution_count": 1,
   "metadata": {},
   "outputs": [],
   "source": [
    "from lib import *"
   ]
  },
  {
   "cell_type": "code",
   "execution_count": 2,
   "metadata": {},
   "outputs": [],
   "source": [
    "from mnist import MNIST\n",
    "mndata = MNIST('./data_mnist')\n",
    "images, labels = mndata.load_training()"
   ]
  },
  {
   "cell_type": "code",
   "execution_count": 3,
   "metadata": {},
   "outputs": [],
   "source": [
    "import numpy as np"
   ]
  },
  {
   "cell_type": "code",
   "execution_count": 4,
   "metadata": {},
   "outputs": [],
   "source": [
    "x = np.array(images)"
   ]
  },
  {
   "cell_type": "code",
   "execution_count": 5,
   "metadata": {},
   "outputs": [],
   "source": [
    "y = np.array(labels)"
   ]
  },
  {
   "cell_type": "code",
   "execution_count": 6,
   "metadata": {},
   "outputs": [
    {
     "data": {
      "text/plain": [
       "(60000, 784)"
      ]
     },
     "execution_count": 6,
     "metadata": {},
     "output_type": "execute_result"
    }
   ],
   "source": [
    "x.shape"
   ]
  },
  {
   "cell_type": "code",
   "execution_count": 7,
   "metadata": {},
   "outputs": [],
   "source": [
    "def one_hot_encoded(y, num_class):\n",
    "    n = y.shape[0]\n",
    "    onehot = np.zeros((n, num_class), dtype=\"int32\")\n",
    "    for i in range(n):\n",
    "        idx = y[i]\n",
    "        onehot[i][idx] = 1\n",
    "    return onehot\n",
    "\n",
    "y = one_hot_encoded(y, 10)"
   ]
  },
  {
   "cell_type": "code",
   "execution_count": 8,
   "metadata": {},
   "outputs": [
    {
     "name": "stdout",
     "output_type": "stream",
     "text": [
      "Epoch 1 - loss: 139.48311429391453\n",
      "Epoch 2 - loss: 95.42615600671536\n",
      "Epoch 3 - loss: 66.46322271985633\n",
      "Epoch 4 - loss: 50.46470614332848\n",
      "Epoch 5 - loss: 43.04014283070244\n",
      "Epoch 6 - loss: 38.83851037027862\n",
      "Epoch 7 - loss: 35.85627585883011\n",
      "Epoch 8 - loss: 33.47775823849818\n",
      "Epoch 9 - loss: 31.471228487389602\n",
      "Epoch 10 - loss: 29.735065093511658\n",
      "Epoch 11 - loss: 28.20606965699039\n",
      "Epoch 12 - loss: 26.845111952016328\n",
      "Epoch 13 - loss: 25.622236409430435\n",
      "Epoch 14 - loss: 24.518330774576878\n",
      "Epoch 15 - loss: 23.51216686786198\n",
      "Epoch 16 - loss: 22.59524723612286\n"
     ]
    },
    {
     "data": {
      "text/plain": [
       "<big_torch.models.model.Model at 0x7f6974302910>"
      ]
     },
     "execution_count": 8,
     "metadata": {},
     "output_type": "execute_result"
    }
   ],
   "source": [
    "net = models.Model()\n",
    "\n",
    "net.add_layer(layers.linear.LinearLayer((784, 100), b_initial=1, w_init='xavier_uniform'))\n",
    "net.add_layer(layers.activations.ReLU((100, 100)))\n",
    "net.add_layer(layers.linear.LinearLayer((100, 100) , b_initial=1, w_init='xavier_uniform'))\n",
    "net.add_layer(layers.activations.ReLU((100, 100)))\n",
    "net.add_layer(layers.linear.LinearLayer((100, 100) , b_initial=1, w_init='xavier_uniform'))\n",
    "net.add_layer(layers.activations.ReLU((100, 100)))\n",
    "net.add_layer(layers.linear.LinearLayer((100, 10) , b_initial=1, w_init='xavier_uniform'))\n",
    "net.add_layer(layers.activations.Softmax((10, 10)))\n",
    "net.set_loss(layers.loss.CrossEntropy((10, 1)))\n",
    "net.build()\n",
    "\n",
    "optimizer = train.OptimizatonFabric(\n",
    "    gen=train.BasicGenerator, \n",
    "    updater=train.GradientDecent,\n",
    "    updater_cfg={'eta': 0.0001})\n",
    "\n",
    "optimizer.train(net, x, y, eps=0.00005, max_iter=15)"
   ]
  },
  {
   "cell_type": "markdown",
   "metadata": {},
   "source": [
    "### Do not get scared, images weren't standartized so NN blows up"
   ]
  }
 ],
 "metadata": {
  "interpreter": {
   "hash": "f4b4b5902d9926e464429fdbfbd863f23dd70a9d7fce7d7862c6b9dc61b2b3d8"
  },
  "kernelspec": {
   "display_name": "Python 3.8.10 64-bit ('env': venv)",
   "name": "python3"
  },
  "language_info": {
   "codemirror_mode": {
    "name": "ipython",
    "version": 3
   },
   "file_extension": ".py",
   "mimetype": "text/x-python",
   "name": "python",
   "nbconvert_exporter": "python",
   "pygments_lexer": "ipython3",
   "version": "3.8.10"
  },
  "orig_nbformat": 4
 },
 "nbformat": 4,
 "nbformat_minor": 2
}
