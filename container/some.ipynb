{
 "cells": [
  {
   "cell_type": "code",
   "execution_count": 24,
   "metadata": {},
   "outputs": [],
   "source": [
    "from lib import *"
   ]
  },
  {
   "cell_type": "code",
   "execution_count": 25,
   "metadata": {},
   "outputs": [],
   "source": [
    "from mnist import MNIST\n",
    "mndata = MNIST('./data_mnist')\n",
    "images, labels = mndata.load_training()"
   ]
  },
  {
   "cell_type": "code",
   "execution_count": 26,
   "metadata": {},
   "outputs": [],
   "source": [
    "import numpy as np"
   ]
  },
  {
   "cell_type": "code",
   "execution_count": 27,
   "metadata": {},
   "outputs": [],
   "source": [
    "x = np.array(images)"
   ]
  },
  {
   "cell_type": "code",
   "execution_count": 28,
   "metadata": {},
   "outputs": [],
   "source": [
    "y = np.array(labels)"
   ]
  },
  {
   "cell_type": "code",
   "execution_count": 29,
   "metadata": {},
   "outputs": [],
   "source": [
    "def one_hot_encoded(y, num_class):\n",
    "    n = y.shape[0]\n",
    "    onehot = np.zeros((n, num_class), dtype=\"int32\")\n",
    "    for i in range(n):\n",
    "        idx = y[i]\n",
    "        onehot[i][idx] = 1\n",
    "    return onehot\n",
    "\n",
    "y = one_hot_encoded(y, 10)"
   ]
  },
  {
   "cell_type": "code",
   "execution_count": 30,
   "metadata": {},
   "outputs": [],
   "source": [
    "scaler = preprocessing.scalers.MinMaxScaler()\n",
    "\n",
    "x = scaler.fit_transform(x)"
   ]
  },
  {
   "cell_type": "code",
   "execution_count": 31,
   "metadata": {},
   "outputs": [],
   "source": [
    "train_x, train_y, test_x, text_y =  preprocessing.cross_validation.train_test_split(x, y, 10000)"
   ]
  },
  {
   "cell_type": "code",
   "execution_count": 37,
   "metadata": {},
   "outputs": [
    {
     "name": "stdout",
     "output_type": "stream",
     "text": [
      "Epoch 1: [Train] loss=2.165079969018818 | metric=0.226 [Test] loss=2.185314443813968 | metric=0.2125\n",
      "Epoch 101: [Train] loss=0.4323136834824008 | metric=0.892 [Test] loss=0.44857300387997295 | metric=0.8822\n",
      "Epoch 201: [Train] loss=0.3573810927724533 | metric=0.9 [Test] loss=0.3629134786161984 | metric=0.897\n",
      "Epoch 301: [Train] loss=0.3112973765966429 | metric=0.921 [Test] loss=0.3284966559015201 | metric=0.9039\n",
      "Epoch 401: [Train] loss=0.2685376337941349 | metric=0.928 [Test] loss=0.3050986846921595 | metric=0.9116\n",
      "Epoch 501: [Train] loss=0.24904280077631777 | metric=0.938 [Test] loss=0.28871047149423584 | metric=0.917\n",
      "Epoch 601: [Train] loss=0.1847178233242445 | metric=0.948 [Test] loss=0.27452264193639514 | metric=0.9213\n",
      "Epoch 701: [Train] loss=0.24251861132360045 | metric=0.93 [Test] loss=0.26168333564855395 | metric=0.9238\n",
      "Epoch 801: [Train] loss=0.2126065431519222 | metric=0.946 [Test] loss=0.24942432525274452 | metric=0.9278\n",
      "Epoch 901: [Train] loss=0.21748896529649783 | metric=0.937 [Test] loss=0.23818570146463153 | metric=0.9312\n",
      "Epoch 1001: [Train] loss=0.19395034718864482 | metric=0.945 [Test] loss=0.22970362128409533 | metric=0.9331\n",
      "Epoch 1101: [Train] loss=0.21526006420453786 | metric=0.94 [Test] loss=0.21961153106646011 | metric=0.9375\n",
      "Epoch 1201: [Train] loss=0.1733171214264478 | metric=0.954 [Test] loss=0.21177778874876013 | metric=0.9391\n",
      "Epoch 1301: [Train] loss=0.1427046585957354 | metric=0.969 [Test] loss=0.203507821136765 | metric=0.9409\n",
      "Epoch 1401: [Train] loss=0.17920191048277334 | metric=0.947 [Test] loss=0.19709779096342978 | metric=0.9428\n",
      "Epoch 1501: [Train] loss=0.11722767713073108 | metric=0.961 [Test] loss=0.19153887904898337 | metric=0.945\n",
      "Epoch 1601: [Train] loss=0.1349163951023259 | metric=0.958 [Test] loss=0.18538082158848618 | metric=0.9473\n",
      "Epoch 1701: [Train] loss=0.14332145650523864 | metric=0.955 [Test] loss=0.18071596327648462 | metric=0.9481\n",
      "Epoch 1801: [Train] loss=0.10895090981874636 | metric=0.974 [Test] loss=0.17493338124832866 | metric=0.95\n",
      "Epoch 1901: [Train] loss=0.14399770967100484 | metric=0.958 [Test] loss=0.17136923530665116 | metric=0.9501\n",
      "Epoch 2001: [Train] loss=0.11482698711813637 | metric=0.968 [Test] loss=0.1672471847650271 | metric=0.9511\n"
     ]
    },
    {
     "data": {
      "text/plain": [
       "<big_torch.models.model.Model at 0x7f288e8ffd00>"
      ]
     },
     "execution_count": 37,
     "metadata": {},
     "output_type": "execute_result"
    }
   ],
   "source": [
    "net = models.Model()\n",
    "\n",
    "net.add_layer(layers.linear.LinearLayer((784, 100), b_initial=0, w_init='xavier_normal'))\n",
    "net.add_layer(layers.activations.Tanh((100, 100)))\n",
    "net.add_layer(layers.linear.LinearLayer((100, 100) , b_initial=0, w_init='xavier_normal'))\n",
    "net.add_layer(layers.activations.Tanh((100, 100)))\n",
    "net.add_layer(layers.linear.LinearLayer((100, 10) , b_initial=0, w_init='xavier_normal'))\n",
    "net.add_layer(layers.activations.Softmax((10, 10)))\n",
    "net.set_loss(layers.loss.CrossEntropy((10, 1)))\n",
    "net.build()\n",
    "\n",
    "optimizer = train.OptimizatonFabric(\n",
    "    gen=train.StochasticBatchGenerator, \n",
    "    updater=train.GradientDecent,\n",
    "    updater_cfg={'eta': 0.1},\n",
    "    generator_cfg={'batch_size': 1000}, \n",
    "    callbacks=[\n",
    "        train.EpochInfo(\n",
    "            validate=True, \n",
    "            metric=preprocessing.cross_validation.class_accuracy)\n",
    "    ]\n",
    ")\n",
    "\n",
    "optimizer.train(net, train_x, train_y, x_val=test_x, y_val=text_y, min_eps=0.0000005, max_iter=2000)"
   ]
  },
  {
   "cell_type": "code",
   "execution_count": 50,
   "metadata": {},
   "outputs": [],
   "source": [
    "obj = 132"
   ]
  },
  {
   "cell_type": "code",
   "execution_count": 51,
   "metadata": {},
   "outputs": [
    {
     "data": {
      "text/plain": [
       "<matplotlib.image.AxesImage at 0x7f288e7c1fa0>"
      ]
     },
     "execution_count": 51,
     "metadata": {},
     "output_type": "execute_result"
    },
    {
     "data": {
      "image/png": "[encoded data removed]",
      "text/plain": [
       "<Figure size 432x288 with 1 Axes>"
      ]
     },
     "metadata": {
      "needs_background": "light"
     },
     "output_type": "display_data"
    }
   ],
   "source": [
    "import matplotlib.pyplot as plt\n",
    "\n",
    "plt.imshow(x[obj].reshape((28, 28)))"
   ]
  },
  {
   "cell_type": "code",
   "execution_count": 52,
   "metadata": {},
   "outputs": [
    {
     "data": {
      "text/plain": [
       "array([0, 0, 0, 0, 0, 1, 0, 0, 0, 0], dtype=int32)"
      ]
     },
     "execution_count": 52,
     "metadata": {},
     "output_type": "execute_result"
    }
   ],
   "source": [
    "y[obj]"
   ]
  },
  {
   "cell_type": "code",
   "execution_count": 53,
   "metadata": {},
   "outputs": [
    {
     "data": {
      "text/plain": [
       "array([[2.33289646e-04, 5.26104096e-01, 4.98662284e-03, 4.16830457e-01,\n",
       "        1.90483524e-05, 3.89559334e-03, 6.17847970e-04, 3.71953778e-03,\n",
       "        3.06325356e-02, 1.29609707e-02]])"
      ]
     },
     "execution_count": 53,
     "metadata": {},
     "output_type": "execute_result"
    }
   ],
   "source": [
    "net.predict(\n",
    "    np.array([x[obj]])\n",
    ")"
   ]
  }
 ],
 "metadata": {
  "interpreter": {
   "hash": "f4b4b5902d9926e464429fdbfbd863f23dd70a9d7fce7d7862c6b9dc61b2b3d8"
  },
  "kernelspec": {
   "display_name": "Python 3.8.10 64-bit ('env': venv)",
   "name": "python3"
  },
  "language_info": {
   "codemirror_mode": {
    "name": "ipython",
    "version": 3
   },
   "file_extension": ".py",
   "mimetype": "text/x-python",
   "name": "python",
   "nbconvert_exporter": "python",
   "pygments_lexer": "ipython3",
   "version": "3.8.10"
  },
  "orig_nbformat": 4
 },
 "nbformat": 4,
 "nbformat_minor": 2
}
